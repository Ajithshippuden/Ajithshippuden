{
  "nbformat": 4,
  "nbformat_minor": 0,
  "metadata": {
    "colab": {
      "provenance": [],
      "authorship_tag": "ABX9TyPny+La8lLcepP0TPjvRjif",
      "include_colab_link": true
    },
    "kernelspec": {
      "name": "python3",
      "display_name": "Python 3"
    },
    "language_info": {
      "name": "python"
    }
  },
  "cells": [
    {
      "cell_type": "markdown",
      "metadata": {
        "id": "view-in-github",
        "colab_type": "text"
      },
      "source": [
        "<a href=\"https://colab.research.google.com/github/Ajithshippuden/Ajithshippuden/blob/main/Untitled1.ipynb\" target=\"_parent\"><img src=\"https://colab.research.google.com/assets/colab-badge.svg\" alt=\"Open In Colab\"/></a>"
      ]
    },
    {
      "cell_type": "code",
      "execution_count": null,
      "metadata": {
        "colab": {
          "base_uri": "https://localhost:8080/"
        },
        "id": "dXbaweUjBaZj",
        "outputId": "efafa339-abbf-400a-e1a5-23526b8dd139"
      },
      "outputs": [
        {
          "output_type": "stream",
          "name": "stdout",
          "text": [
            "the sum is 20\n"
          ]
        }
      ],
      "source": [
        "a=10\n",
        "b=10\n",
        "sum=a+b\n",
        "print(\"the sum is\", sum)"
      ]
    },
    {
      "cell_type": "code",
      "source": [
        "\n",
        "num=int(input(\"ENTER THE INPUT\"))\n",
        "numsqrt=num**0.5\n",
        "print(\"the output is\",numsqrt)"
      ],
      "metadata": {
        "colab": {
          "base_uri": "https://localhost:8080/"
        },
        "id": "l0n_KgBECTcb",
        "outputId": "11c21673-4784-477f-e8b4-1a895532365e"
      },
      "execution_count": null,
      "outputs": [
        {
          "output_type": "stream",
          "name": "stdout",
          "text": [
            "ENTER THE INPUT100\n",
            "the output is 10.0\n"
          ]
        }
      ]
    },
    {
      "cell_type": "code",
      "source": [
        "\n",
        "b=int(input(\"ENTER THE BASE\"))\n",
        "h=int(input(\"ENTER THE HEIGHT\"))\n",
        "area=0.5*b*h\n",
        "print('the area of tri is',area)"
      ],
      "metadata": {
        "colab": {
          "base_uri": "https://localhost:8080/"
        },
        "id": "1El0-QwxEVAc",
        "outputId": "a1bdb9b4-41cc-46c8-9821-491837f7ddc9"
      },
      "execution_count": null,
      "outputs": [
        {
          "output_type": "stream",
          "name": "stdout",
          "text": [
            "ENTER THE BASE50\n",
            "ENTER THE HEIGHT40\n",
            "the area of tri is 1000.0\n"
          ]
        }
      ]
    },
    {
      "cell_type": "code",
      "source": [
        "num=10.0\n",
        "print(\"the datatype of num is\",type(num))"
      ],
      "metadata": {
        "colab": {
          "base_uri": "https://localhost:8080/"
        },
        "id": "I2Vi48OYF-gF",
        "outputId": "5e5f4646-f479-4e99-a4e3-4432edcec239"
      },
      "execution_count": null,
      "outputs": [
        {
          "output_type": "stream",
          "name": "stdout",
          "text": [
            "the datatype of num is <class 'float'>\n"
          ]
        }
      ]
    },
    {
      "cell_type": "code",
      "source": [
        "#accessing_list\n",
        "games=[\"gta\",\"reddead\",\"cod\",\"coc\"]\n",
        "print(games[0])"
      ],
      "metadata": {
        "colab": {
          "base_uri": "https://localhost:8080/"
        },
        "id": "jBtff4_AIgUn",
        "outputId": "aeb038a7-63f5-4b76-c67d-3634302af6e4"
      },
      "execution_count": null,
      "outputs": [
        {
          "output_type": "stream",
          "name": "stdout",
          "text": [
            "gta\n"
          ]
        }
      ]
    },
    {
      "cell_type": "code",
      "source": [
        "#tuple\n",
        "actors=(\"vijay\",\"ajith\",\"rajni\")\n",
        "print(actors[2])"
      ],
      "metadata": {
        "colab": {
          "base_uri": "https://localhost:8080/"
        },
        "id": "c9V75OmuKAQr",
        "outputId": "3458b533-b96e-4735-e2ab-ad364ed01aaf"
      },
      "execution_count": null,
      "outputs": [
        {
          "output_type": "stream",
          "name": "stdout",
          "text": [
            "rajni\n"
          ]
        }
      ]
    },
    {
      "cell_type": "code",
      "source": [
        "#dictionary\n",
        "dict={'nepal':'kathmandu','italy':'rome','england':'london'}\n",
        "print(dict)\n",
        "print(dict['nepal'])"
      ],
      "metadata": {
        "colab": {
          "base_uri": "https://localhost:8080/"
        },
        "id": "kdJKxmJPK96r",
        "outputId": "8082a9f6-dc13-4a09-f1a1-fd9489d61c1a"
      },
      "execution_count": null,
      "outputs": [
        {
          "output_type": "stream",
          "name": "stdout",
          "text": [
            "{'nepal': 'kathmandu', 'italy': 'rome', 'england': 'london'}\n",
            "kathmandu\n"
          ]
        }
      ]
    },
    {
      "cell_type": "code",
      "source": [
        "#checking if+,-\n",
        "num=float(input(\"enter the number\"))\n",
        "if num<=0:\n",
        "   if num==0:\n",
        "    print(\"zero\")\n",
        "   else:\n",
        "    print(\"the num is negative\")\n",
        "if num>0:\n",
        " print(\"positive\")\n"
      ],
      "metadata": {
        "colab": {
          "base_uri": "https://localhost:8080/"
        },
        "id": "_UROU566hi9R",
        "outputId": "c1a06826-bfd8-4f93-e5d2-8bac98e7c85c"
      },
      "execution_count": null,
      "outputs": [
        {
          "output_type": "stream",
          "name": "stdout",
          "text": [
            "enter the number0\n",
            "zero\n"
          ]
        }
      ]
    },
    {
      "cell_type": "code",
      "source": [
        "#prime number\n",
        "num=int(input(\"enter the number\"))\n"
      ],
      "metadata": {
        "id": "O5WmbMB4yA58"
      },
      "execution_count": null,
      "outputs": []
    }
  ]
}